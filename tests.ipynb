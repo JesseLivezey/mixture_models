{
 "cells": [
  {
   "cell_type": "code",
   "execution_count": 1,
   "metadata": {
    "collapsed": false
   },
   "outputs": [
    {
     "data": {
      "text/plain": [
       "<module 'models' from 'models.pyc'>"
      ]
     },
     "execution_count": 1,
     "metadata": {},
     "output_type": "execute_result"
    }
   ],
   "source": [
    "import numpy as np\n",
    "import matplotlib.pyplot as plt\n",
    "%matplotlib inline\n",
    "\n",
    "import models\n",
    "reload(models)"
   ]
  },
  {
   "cell_type": "code",
   "execution_count": 2,
   "metadata": {
    "collapsed": true
   },
   "outputs": [],
   "source": [
    "def gaussian(X, alpha, beta):\n",
    "    sqrt2pi = np.sqrt(2. * np.pi)\n",
    "    lg = ((alpha * X) + (beta * X**2) +\n",
    "          (.5 * np.log(-2. * beta)) +\n",
    "          (.25 * alpha**2/beta) - np.log(sqrt2pi))\n",
    "    return np.exp(lg)\n",
    "\n",
    "def mog(X, pi, alpha, beta):\n",
    "    return sum([pii * gaussian(X, ai, bi) for pii, ai, bi in zip(pi, alpha, beta)])\n",
    "\n",
    "def gen_data(n_data, pi, alpha, beta, rng):\n",
    "    c = rng.multinomial(1, pi, n_data).T\n",
    "    return sum([c[ii]*rng.normal(-ai/bi/2., np.sqrt(-1./bi/2.), size=n_data)\n",
    "                for ii, (ai, bi) in enumerate(zip(alpha, beta))])"
   ]
  },
  {
   "cell_type": "code",
   "execution_count": 3,
   "metadata": {
    "collapsed": false
   },
   "outputs": [],
   "source": [
    "rng = np.random.RandomState(20161116)\n",
    "pi = [.2, .8]\n",
    "alpha = [-2., 2.]\n",
    "beta = [-.1, -.5]\n",
    "data = gen_data(10000, pi, alpha, beta, rng)\n",
    "xlim = [data.min()-1, data.max()+1]\n",
    "bins = 100"
   ]
  },
  {
   "cell_type": "code",
   "execution_count": 4,
   "metadata": {
    "collapsed": false
   },
   "outputs": [],
   "source": [
    "reload(models)\n",
    "mg = models.GaussianMixture(2)"
   ]
  },
  {
   "cell_type": "code",
   "execution_count": 5,
   "metadata": {
    "collapsed": false
   },
   "outputs": [
    {
     "name": "stdout",
     "output_type": "stream",
     "text": [
      "[ 1.06174028 -0.4401702 ]\n",
      "[-1. -1.]\n",
      "[ 0.31441054  0.68558943]\n",
      "hi nan\n",
      "hi nan\n",
      "hi nan\n",
      "hi nan\n",
      "hi nan\n",
      "hi nan\n",
      "hi nan\n",
      "hi nan\n",
      "hi nan\n",
      "hi nan\n",
      "hi nan\n",
      "hi nan\n",
      "hi nan\n",
      "hi nan\n",
      "hi nan\n",
      "hi nan\n",
      "hi nan\n",
      "hi nan\n",
      "hi nan\n",
      "hi nan\n",
      "hi nan\n",
      "hi nan\n",
      "hi nan\n",
      "hi nan\n",
      "hi nan\n",
      "hi nan\n",
      "hi nan\n",
      "hi nan\n",
      "hi nan\n",
      "hi nan\n",
      "hi nan\n",
      "hi nan\n",
      "hi nan\n",
      "hi nan\n",
      "hi nan\n",
      "hi nan\n",
      "hi nan\n",
      "hi nan\n",
      "hi nan\n",
      "hi nan\n",
      "hi nan\n",
      "hi nan\n",
      "hi nan\n",
      "hi nan\n",
      "hi nan\n",
      "hi nan\n",
      "hi nan\n",
      "hi nan\n",
      "hi nan\n",
      "hi nan\n",
      "hi nan\n",
      "hi nan\n",
      "hi nan\n",
      "hi nan\n",
      "hi nan\n",
      "hi nan\n",
      "hi nan\n",
      "hi nan\n",
      "hi nan\n",
      "hi nan\n",
      "hi nan\n",
      "hi nan\n",
      "hi nan\n",
      "hi nan\n",
      "hi nan\n",
      "hi nan\n",
      "hi nan\n",
      "hi nan\n",
      "hi nan\n",
      "hi nan\n",
      "hi nan\n",
      "hi nan\n",
      "hi nan\n",
      "hi nan\n",
      "hi nan\n",
      "hi nan\n",
      "hi nan\n",
      "hi nan\n",
      "hi nan\n",
      "hi nan\n",
      "hi nan\n",
      "hi nan\n",
      "hi nan\n",
      "hi nan\n",
      "hi nan\n",
      "hi nan\n",
      "hi nan\n",
      "hi nan\n",
      "hi nan\n",
      "hi nan\n",
      "hi nan\n",
      "hi nan\n",
      "hi nan\n",
      "hi nan\n",
      "hi nan\n",
      "hi nan\n",
      "hi nan\n",
      "hi nan\n",
      "hi nan\n",
      "hi nan\n",
      "hi nan\n",
      "[ nan  nan] [-2.0, 2.0]\n",
      "[ nan  nan] [-0.1, -0.5]\n",
      "[ 0.  0.] [0.2, 0.8]\n"
     ]
    }
   ],
   "source": [
    "print mg.alpha.get_value()\n",
    "print mg.beta.get_value()\n",
    "print mg.pi.get_value()\n",
    "mg.fit(data)\n",
    "print mg.alpha.get_value(), alpha\n",
    "print mg.beta.get_value(), beta\n",
    "print mg.pi.get_value(), pi"
   ]
  },
  {
   "cell_type": "code",
   "execution_count": 6,
   "metadata": {
    "collapsed": false
   },
   "outputs": [
    {
     "data": {
      "image/png": "[encoded data removed]",
      "text/plain": [
       "<matplotlib.figure.Figure at 0x113482ad0>"
      ]
     },
     "metadata": {},
     "output_type": "display_data"
    }
   ],
   "source": [
    "hist, hist_bins = np.histogram(data, bins=bins, density=True)\n",
    "x = hist_bins[:-1] + (hist_bins[1] - hist_bins[0]) / 2.\n",
    "dx = hist_bins[1] - hist_bins[0]\n",
    "pdf = mog(x, pi, alpha, beta)\n",
    "plt.plot(x, hist, '-r')\n",
    "plt.plot(x, pdf, '-k')\n",
    "\n",
    "pdf = pi[0] * gaussian(x, alpha[0], beta[0])\n",
    "plt.plot(x, pdf, '-b')\n",
    "\n",
    "pdf = pi[1] * gaussian(x, alpha[1], beta[1])\n",
    "plt.plot(x, pdf, '-g')\n",
    "\n",
    "pdf = mog(x, mg.pi.get_value(), mg.alpha.get_value(), mg.beta.get_value())\n",
    "plt.plot(x, pdf, '-r')\n",
    "\n",
    "_ = plt.xlim(xlim)"
   ]
  },
  {
   "cell_type": "code",
   "execution_count": null,
   "metadata": {
    "collapsed": true
   },
   "outputs": [],
   "source": []
  }
 ],
 "metadata": {
  "kernelspec": {
   "display_name": "Python [Root]",
   "language": "python",
   "name": "Python [Root]"
  },
  "language_info": {
   "codemirror_mode": {
    "name": "ipython",
    "version": 2
   },
   "file_extension": ".py",
   "mimetype": "text/x-python",
   "name": "python",
   "nbconvert_exporter": "python",
   "pygments_lexer": "ipython2",
   "version": "2.7.11"
  }
 },
 "nbformat": 4,
 "nbformat_minor": 0
}
